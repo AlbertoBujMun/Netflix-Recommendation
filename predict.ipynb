{
 "cells": [
  {
   "cell_type": "code",
   "execution_count": 19,
   "metadata": {},
   "outputs": [
    {
     "name": "stdout",
     "output_type": "stream",
     "text": [
      "[nltk_data] Downloading package stopwords to\n",
      "[nltk_data]     C:\\Users\\Alberto\\AppData\\Roaming\\nltk_data...\n",
      "[nltk_data]   Package stopwords is already up-to-date!\n"
     ]
    },
    {
     "data": {
      "text/plain": [
       "True"
      ]
     },
     "execution_count": 19,
     "metadata": {},
     "output_type": "execute_result"
    }
   ],
   "source": [
    "from collections import Counter, defaultdict\n",
    "import pandas as pd\n",
    "import os\n",
    "import numpy as np\n",
    "from sklearn.metrics.pairwise import cosine_similarity\n",
    "import math\n",
    "from sklearn.utils import shuffle\n",
    "from sklearn.model_selection import cross_val_score, cross_val_predict\n",
    "from sklearn.feature_extraction.text import CountVectorizer, TfidfTransformer\n",
    "from sklearn.svm import LinearSVC\n",
    "from sklearn.pipeline import Pipeline\n",
    "from sklearn.metrics import confusion_matrix\n",
    "from sklearn.decomposition import PCA\n",
    "from nltk.corpus import stopwords\n",
    "from sklearn.externals import joblib\n",
    "\n",
    "#Once\n",
    "import nltk\n",
    "nltk.download('stopwords')"
   ]
  },
  {
   "cell_type": "code",
   "execution_count": 20,
   "metadata": {},
   "outputs": [
    {
     "data": {
      "text/html": [
       "<div>\n",
       "<style scoped>\n",
       "    .dataframe tbody tr th:only-of-type {\n",
       "        vertical-align: middle;\n",
       "    }\n",
       "\n",
       "    .dataframe tbody tr th {\n",
       "        vertical-align: top;\n",
       "    }\n",
       "\n",
       "    .dataframe thead th {\n",
       "        text-align: right;\n",
       "    }\n",
       "</style>\n",
       "<table border=\"1\" class=\"dataframe\">\n",
       "  <thead>\n",
       "    <tr style=\"text-align: right;\">\n",
       "      <th></th>\n",
       "      <th>year</th>\n",
       "      <th>title</th>\n",
       "      <th>Runtime</th>\n",
       "      <th>Rating</th>\n",
       "      <th>Directors</th>\n",
       "      <th>Writers</th>\n",
       "      <th>Production companies</th>\n",
       "      <th>Genres</th>\n",
       "      <th>Plot</th>\n",
       "    </tr>\n",
       "    <tr>\n",
       "      <th>id</th>\n",
       "      <th></th>\n",
       "      <th></th>\n",
       "      <th></th>\n",
       "      <th></th>\n",
       "      <th></th>\n",
       "      <th></th>\n",
       "      <th></th>\n",
       "      <th></th>\n",
       "      <th></th>\n",
       "    </tr>\n",
       "  </thead>\n",
       "  <tbody>\n",
       "    <tr>\n",
       "      <th>1</th>\n",
       "      <td>2003.0</td>\n",
       "      <td>Dinosaur Planet</td>\n",
       "      <td>50.0</td>\n",
       "      <td>7.7</td>\n",
       "      <td>Pierre de Lespinois</td>\n",
       "      <td>Mike Carrol-Mike Carroll-Georgann Kane</td>\n",
       "      <td>NaN</td>\n",
       "      <td>Documentary-Animation-Family</td>\n",
       "      <td>A four-episode animated series charting the ad...</td>\n",
       "    </tr>\n",
       "    <tr>\n",
       "      <th>2</th>\n",
       "      <td>2004.0</td>\n",
       "      <td>Isle of Man TT 2004 Review</td>\n",
       "      <td>NaN</td>\n",
       "      <td>NaN</td>\n",
       "      <td>NaN</td>\n",
       "      <td>NaN</td>\n",
       "      <td>NaN</td>\n",
       "      <td>NaN</td>\n",
       "      <td>NaN</td>\n",
       "    </tr>\n",
       "    <tr>\n",
       "      <th>3</th>\n",
       "      <td>1997.0</td>\n",
       "      <td>Character</td>\n",
       "      <td>122.0</td>\n",
       "      <td>7.8</td>\n",
       "      <td>Mike van Diem</td>\n",
       "      <td>Ferdinand Bordewijk-Laurens Geels-Mike van Diem</td>\n",
       "      <td>First Floor Features-Almerica Film</td>\n",
       "      <td>Crime-Drama-Mystery</td>\n",
       "      <td>In the 20's, in Netherlands, Jacob Willem Kata...</td>\n",
       "    </tr>\n",
       "    <tr>\n",
       "      <th>4</th>\n",
       "      <td>1994.0</td>\n",
       "      <td>Paula Abdul's Get Up &amp; Dance</td>\n",
       "      <td>54.0</td>\n",
       "      <td>8.8</td>\n",
       "      <td>Steve Purcell</td>\n",
       "      <td>NaN</td>\n",
       "      <td>NaN</td>\n",
       "      <td>Family</td>\n",
       "      <td>Join Paula Abdul for the ultimate workout - an...</td>\n",
       "    </tr>\n",
       "    <tr>\n",
       "      <th>5</th>\n",
       "      <td>2004.0</td>\n",
       "      <td>The Rise and Fall of ECW</td>\n",
       "      <td>360.0</td>\n",
       "      <td>8.6</td>\n",
       "      <td>Kevin Dunn</td>\n",
       "      <td>Paul Heyman</td>\n",
       "      <td>WWE Home Video</td>\n",
       "      <td>Documentary-Sport</td>\n",
       "      <td>NaN</td>\n",
       "    </tr>\n",
       "  </tbody>\n",
       "</table>\n",
       "</div>"
      ],
      "text/plain": [
       "      year                         title  Runtime  Rating  \\\n",
       "id                                                          \n",
       "1   2003.0               Dinosaur Planet     50.0     7.7   \n",
       "2   2004.0    Isle of Man TT 2004 Review      NaN     NaN   \n",
       "3   1997.0                     Character    122.0     7.8   \n",
       "4   1994.0  Paula Abdul's Get Up & Dance     54.0     8.8   \n",
       "5   2004.0      The Rise and Fall of ECW    360.0     8.6   \n",
       "\n",
       "              Directors                                          Writers  \\\n",
       "id                                                                         \n",
       "1   Pierre de Lespinois           Mike Carrol-Mike Carroll-Georgann Kane   \n",
       "2                   NaN                                              NaN   \n",
       "3         Mike van Diem  Ferdinand Bordewijk-Laurens Geels-Mike van Diem   \n",
       "4         Steve Purcell                                              NaN   \n",
       "5            Kevin Dunn                                      Paul Heyman   \n",
       "\n",
       "                  Production companies                        Genres  \\\n",
       "id                                                                     \n",
       "1                                  NaN  Documentary-Animation-Family   \n",
       "2                                  NaN                           NaN   \n",
       "3   First Floor Features-Almerica Film           Crime-Drama-Mystery   \n",
       "4                                  NaN                        Family   \n",
       "5                       WWE Home Video             Documentary-Sport   \n",
       "\n",
       "                                                 Plot  \n",
       "id                                                     \n",
       "1   A four-episode animated series charting the ad...  \n",
       "2                                                 NaN  \n",
       "3   In the 20's, in Netherlands, Jacob Willem Kata...  \n",
       "4   Join Paula Abdul for the ultimate workout - an...  \n",
       "5                                                 NaN  "
      ]
     },
     "execution_count": 20,
     "metadata": {},
     "output_type": "execute_result"
    }
   ],
   "source": [
    "movies = pd.read_csv(\"final_data/cooked_movies.csv\").set_index('id')\n",
    "movies.head()"
   ]
  },
  {
   "cell_type": "code",
   "execution_count": 24,
   "metadata": {},
   "outputs": [],
   "source": [
    "def recomienda_pelicula(usuario, pelicula):\n",
    "    modelo_usuario = joblib.load(\"user_model/\"+str(usuario))\n",
    "    stop_words = stopwords.words('english')\n",
    "    row = movies.iloc[pelicula]\n",
    "    text = \"\"\n",
    "    plot = row['Plot']\n",
    "    directors = row.Directors\n",
    "    writers = row.Writers\n",
    "    genres = row.Genres\n",
    "    if not pd.isnull(directors): \n",
    "        dir_temp = directors.replace(\" \",\"\").lower().split(\"-\")\n",
    "        for dir in dir_temp:\n",
    "            text = text + \" \" + dir\n",
    "    if not pd.isnull(writers): \n",
    "        wri_temp = writers.replace(\" \",\"\").lower().split(\"-\")\n",
    "        for wri in wri_temp:\n",
    "            text = text + \" \" + wri\n",
    "    if not pd.isnull(genres): \n",
    "        gen_temp = genres.replace(\" \",\"\").lower().split(\"-\")\n",
    "        for gen in gen_temp:\n",
    "            text = text + \" \" + gen\n",
    "    if not pd.isnull(plot): \n",
    "        for r in plot.lower().split(\" \"): \n",
    "            if not r in stop_words:\n",
    "                 text = text + \" \" + r\n",
    "    return modelo_usuario.predict([text])\n",
    "    "
   ]
  },
  {
   "cell_type": "code",
   "execution_count": 25,
   "metadata": {},
   "outputs": [
    {
     "data": {
      "text/plain": [
       "array(['Y'], dtype=object)"
      ]
     },
     "execution_count": 25,
     "metadata": {},
     "output_type": "execute_result"
    }
   ],
   "source": [
    "usuario = 14756\n",
    "pelicula = 500\n",
    "recomienda_pelicula(usuario,pelicula)"
   ]
  },
  {
   "cell_type": "code",
   "execution_count": null,
   "metadata": {},
   "outputs": [],
   "source": []
  }
 ],
 "metadata": {
  "kernelspec": {
   "display_name": "Python 3",
   "language": "python",
   "name": "python3"
  },
  "language_info": {
   "codemirror_mode": {
    "name": "ipython",
    "version": 3
   },
   "file_extension": ".py",
   "mimetype": "text/x-python",
   "name": "python",
   "nbconvert_exporter": "python",
   "pygments_lexer": "ipython3",
   "version": "3.7.0"
  }
 },
 "nbformat": 4,
 "nbformat_minor": 2
}
