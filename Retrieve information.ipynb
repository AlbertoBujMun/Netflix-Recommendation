{
 "cells": [
  {
   "cell_type": "code",
   "execution_count": 1,
   "metadata": {},
   "outputs": [],
   "source": [
    "import imdb\n",
    "import pandas as pd\n",
    "import numpy as np\n",
    "ia = imdb.IMDb() # by default access the web."
   ]
  },
  {
   "cell_type": "code",
   "execution_count": 5,
   "metadata": {},
   "outputs": [
    {
     "data": {
      "text/html": [
       "<div>\n",
       "<style scoped>\n",
       "    .dataframe tbody tr th:only-of-type {\n",
       "        vertical-align: middle;\n",
       "    }\n",
       "\n",
       "    .dataframe tbody tr th {\n",
       "        vertical-align: top;\n",
       "    }\n",
       "\n",
       "    .dataframe thead th {\n",
       "        text-align: right;\n",
       "    }\n",
       "</style>\n",
       "<table border=\"1\" class=\"dataframe\">\n",
       "  <thead>\n",
       "    <tr style=\"text-align: right;\">\n",
       "      <th></th>\n",
       "      <th>year</th>\n",
       "      <th>title</th>\n",
       "    </tr>\n",
       "    <tr>\n",
       "      <th>id</th>\n",
       "      <th></th>\n",
       "      <th></th>\n",
       "    </tr>\n",
       "  </thead>\n",
       "  <tbody>\n",
       "    <tr>\n",
       "      <th>2000</th>\n",
       "      <td>1994</td>\n",
       "      <td>Four Weddings and a Funeral</td>\n",
       "    </tr>\n",
       "    <tr>\n",
       "      <th>2001</th>\n",
       "      <td>1992</td>\n",
       "      <td>Under Siege</td>\n",
       "    </tr>\n",
       "    <tr>\n",
       "      <th>2002</th>\n",
       "      <td>2002</td>\n",
       "      <td>Nijinsky</td>\n",
       "    </tr>\n",
       "    <tr>\n",
       "      <th>2003</th>\n",
       "      <td>1974</td>\n",
       "      <td>Truck Turner</td>\n",
       "    </tr>\n",
       "    <tr>\n",
       "      <th>2004</th>\n",
       "      <td>2001</td>\n",
       "      <td>She Creature</td>\n",
       "    </tr>\n",
       "  </tbody>\n",
       "</table>\n",
       "</div>"
      ],
      "text/plain": [
       "      year                        title\n",
       "id                                     \n",
       "2000  1994  Four Weddings and a Funeral\n",
       "2001  1992                  Under Siege\n",
       "2002  2002                     Nijinsky\n",
       "2003  1974                 Truck Turner\n",
       "2004  2001                 She Creature"
      ]
     },
     "execution_count": 5,
     "metadata": {},
     "output_type": "execute_result"
    }
   ],
   "source": [
    "m_cols = ['id', 'year', 'title']\n",
    "movies = pd.read_csv(\"data/movies_2kto4k.csv\",sep=',', names=m_cols, encoding='latin-1').set_index('id')\n",
    "movies.head()"
   ]
  },
  {
   "cell_type": "code",
   "execution_count": 4,
   "metadata": {},
   "outputs": [],
   "source": [
    "serie_runtime = np.array([]);\n",
    "serie_rating = np.array([]);\n",
    "serie_directors = np.array([]);\n",
    "serie_writers = np.array([]);\n",
    "serie_production_companies = np.array([]);\n",
    "serie_genres = np.array([]);\n",
    "\n",
    "for i, row in movies.iterrows():\n",
    "    try:\n",
    "        #if i == 4:\n",
    "            #break;\n",
    "        #try:\n",
    "        pelicula = None\n",
    "        list_results_by_title = ia.search_movie(row['title'])\n",
    "        for m in list_results_by_title:\n",
    "            if(('year' in m.keys()) and row['year'] == m['year']):\n",
    "                pelicula = ia.get_movie(m.movieID);\n",
    "                break;\n",
    "        #list_results_by_title_and_year = [m for m in list_results_by_title if m['year'] == row['year']]\n",
    "        #pelicula = ia.get_movie(list_results_by_title_and_year[0].movieID)\n",
    "        if (pelicula == None):\n",
    "            movies.loc[i, 'Runtime'] = np.NaN\n",
    "            movies.loc[i, 'Rating'] = np.NaN\n",
    "            movies.loc[i, 'Directors'] = np.NaN\n",
    "            movies.loc[i, 'Writers'] = np.NaN\n",
    "            movies.loc[i, 'Production companies'] = np.NaN\n",
    "            movies.loc[i, 'Genres'] = np.NaN\n",
    "        else:\n",
    "            keys = pelicula.keys()\n",
    "            if ((('runtime' in keys) or ('runtimes' in keys)) and pelicula['runtime'] and len(pelicula['runtime']) > 0):\n",
    "                movies.loc[i, 'Runtime'] = pelicula['runtime'][0]\n",
    "            else:\n",
    "                movies.loc[i, 'Runtime'] = np.NaN\n",
    "\n",
    "            if (('rating' in keys) and pelicula['rating']):\n",
    "                movies.loc[i, 'Rating'] = pelicula['rating']\n",
    "            else:\n",
    "                movies.loc[i, 'Rating'] = np.NaN\n",
    "\n",
    "            if ((('director' in keys) or ('directors' in keys)) and pelicula['director'] and len(pelicula['director']) > 0):\n",
    "                directores = []\n",
    "                for d in pelicula['director']:\n",
    "                    directores.append(d['name'])\n",
    "                    #np.append(directores, d['name'])\n",
    "                movies.loc[i, 'Directors'] = '-'.join(directores)\n",
    "            else:\n",
    "                movies.loc[i, 'Directors'] = np.NaN\n",
    "\n",
    "            if ((('writer' in keys) or ('writers' in keys)) and pelicula['writer'] and len(pelicula['writer']) > 0):\n",
    "                escritores = []\n",
    "                for d in pelicula['writer']:\n",
    "                    escritores.append(d['name'])\n",
    "                    #np.append(escritores,d['name'])\n",
    "                movies.loc[i, 'Writers'] = '-'.join(escritores)\n",
    "            else:\n",
    "                movies.loc[i, 'Writers'] = np.NaN\n",
    "\n",
    "            if ((('production companies' in keys) or ('production company' in keys)) and pelicula['production companies'] and len(pelicula['production companies']) > 0):\n",
    "                productoras = []\n",
    "                for d in pelicula['production companies']:\n",
    "                    productoras.append(d['name'])\n",
    "                    #np.append(productoras, d['name'])\n",
    "                movies.loc[i, 'Production companies'] = '-'.join(productoras)\n",
    "            else:\n",
    "                movies.loc[i, 'Production companies'] = np.NaN\n",
    "\n",
    "            if ((('genres' in keys) or ('genre' in keys)) and pelicula['genres'] and len(pelicula['genres']) > 0):\n",
    "                generos = []\n",
    "                for d in pelicula['genres']:\n",
    "                    generos.append(d)\n",
    "                    #np.append(generos,d)\n",
    "                movies.loc[i, 'Genres'] = '-'.join(generos)\n",
    "            else:\n",
    "                movies.loc[i, 'Genres'] = np.NaN\n",
    "            \n",
    "    except:\n",
    "        movies.loc[i, 'Runtime'] = np.NaN\n",
    "        movies.loc[i, 'Rating'] = np.NaN\n",
    "        movies.loc[i, 'Directors'] = np.NaN\n",
    "        movies.loc[i, 'Writers'] = np.NaN\n",
    "        movies.loc[i, 'Production companies'] = np.NaN\n",
    "        movies.loc[i, 'Genres'] = np.NaN\n",
    "        \n",
    "#movies['Runtime'] = pd.Series(serie_runtime, name = \"Runtime\")\n",
    "#movies['Rating'] = pd.Series(serie_rating, name = \"Rating\")\n",
    "#movies['Directors'] = pd.Series(serie_directors, name = \"Directors\")\n",
    "#movies['Writers'] = pd.Series(serie_writers, name = \"Writers\")\n",
    "#movies['Production companies'] = pd.Series(serie_production_companies, name = \"Production companies\")\n",
    "#movies['Genres'] = pd.Series(serie_genres, name = \"Genres\")\n",
    "\n",
    "movies.to_csv('cooked_movie_data_2kto4k.csv')"
   ]
  },
  {
   "cell_type": "code",
   "execution_count": null,
   "metadata": {},
   "outputs": [],
   "source": [
    "movies.to_csv('cooked_movie_data.csv')\n",
    "list_results_by_title = ia.search_movie(title)\n",
    "list_results_by_title_and_year = [m for m in s_result if m['year'] == year]\n",
    "ia.get_movie(list_results_by_title_and_year[0].movieID)\n",
    "print(pelicula['runtime'][0])\n",
    "print(pelicula['rating'])\n",
    "print(pelicula['director'][0]['name'])\n",
    "print(pelicula['writer'][0]['name'])\n",
    "print(pelicula['production companies'][0]['name'])\n",
    "print(pelicula['genres'][0])"
   ]
  },
  {
   "cell_type": "code",
   "execution_count": 14,
   "metadata": {},
   "outputs": [
    {
     "ename": "NameError",
     "evalue": "name 'year' is not defined",
     "output_type": "error",
     "traceback": [
      "\u001b[1;31m---------------------------------------------------------------------------\u001b[0m",
      "\u001b[1;31mNameError\u001b[0m                                 Traceback (most recent call last)",
      "\u001b[1;32m<ipython-input-14-4b1a9487a887>\u001b[0m in \u001b[0;36m<module>\u001b[1;34m\u001b[0m\n\u001b[0;32m      1\u001b[0m \u001b[0mlist_results_by_title\u001b[0m \u001b[1;33m=\u001b[0m \u001b[0mia\u001b[0m\u001b[1;33m.\u001b[0m\u001b[0msearch_movie\u001b[0m\u001b[1;33m(\u001b[0m\u001b[0mmovies\u001b[0m\u001b[1;33m[\u001b[0m\u001b[1;34m'title'\u001b[0m\u001b[1;33m]\u001b[0m\u001b[1;33m[\u001b[0m\u001b[1;36m1\u001b[0m\u001b[1;33m]\u001b[0m\u001b[1;33m)\u001b[0m\u001b[1;33m\u001b[0m\u001b[1;33m\u001b[0m\u001b[0m\n\u001b[1;32m----> 2\u001b[1;33m \u001b[0mlist_results_by_title_and_year\u001b[0m \u001b[1;33m=\u001b[0m \u001b[1;33m[\u001b[0m\u001b[0mm\u001b[0m \u001b[1;32mfor\u001b[0m \u001b[0mm\u001b[0m \u001b[1;32min\u001b[0m \u001b[0mlist_results_by_title\u001b[0m \u001b[1;32mif\u001b[0m \u001b[0mm\u001b[0m\u001b[1;33m[\u001b[0m\u001b[1;34m'year'\u001b[0m\u001b[1;33m]\u001b[0m \u001b[1;33m==\u001b[0m \u001b[0myear\u001b[0m\u001b[1;33m]\u001b[0m\u001b[1;33m\u001b[0m\u001b[1;33m\u001b[0m\u001b[0m\n\u001b[0m\u001b[0;32m      3\u001b[0m \u001b[0mpelicula\u001b[0m \u001b[1;33m=\u001b[0m \u001b[0mia\u001b[0m\u001b[1;33m.\u001b[0m\u001b[0mget_movie\u001b[0m\u001b[1;33m(\u001b[0m\u001b[0mlist_results_by_title_and_year\u001b[0m\u001b[1;33m[\u001b[0m\u001b[1;36m0\u001b[0m\u001b[1;33m]\u001b[0m\u001b[1;33m.\u001b[0m\u001b[0mmovieID\u001b[0m\u001b[1;33m)\u001b[0m\u001b[1;33m\u001b[0m\u001b[1;33m\u001b[0m\u001b[0m\n\u001b[0;32m      4\u001b[0m \u001b[0mprint\u001b[0m\u001b[1;33m(\u001b[0m\u001b[0mpelicula\u001b[0m\u001b[1;33m[\u001b[0m\u001b[1;34m'title'\u001b[0m\u001b[1;33m]\u001b[0m\u001b[1;33m)\u001b[0m\u001b[1;33m\u001b[0m\u001b[1;33m\u001b[0m\u001b[0m\n",
      "\u001b[1;32m<ipython-input-14-4b1a9487a887>\u001b[0m in \u001b[0;36m<listcomp>\u001b[1;34m(.0)\u001b[0m\n\u001b[0;32m      1\u001b[0m \u001b[0mlist_results_by_title\u001b[0m \u001b[1;33m=\u001b[0m \u001b[0mia\u001b[0m\u001b[1;33m.\u001b[0m\u001b[0msearch_movie\u001b[0m\u001b[1;33m(\u001b[0m\u001b[0mmovies\u001b[0m\u001b[1;33m[\u001b[0m\u001b[1;34m'title'\u001b[0m\u001b[1;33m]\u001b[0m\u001b[1;33m[\u001b[0m\u001b[1;36m1\u001b[0m\u001b[1;33m]\u001b[0m\u001b[1;33m)\u001b[0m\u001b[1;33m\u001b[0m\u001b[1;33m\u001b[0m\u001b[0m\n\u001b[1;32m----> 2\u001b[1;33m \u001b[0mlist_results_by_title_and_year\u001b[0m \u001b[1;33m=\u001b[0m \u001b[1;33m[\u001b[0m\u001b[0mm\u001b[0m \u001b[1;32mfor\u001b[0m \u001b[0mm\u001b[0m \u001b[1;32min\u001b[0m \u001b[0mlist_results_by_title\u001b[0m \u001b[1;32mif\u001b[0m \u001b[0mm\u001b[0m\u001b[1;33m[\u001b[0m\u001b[1;34m'year'\u001b[0m\u001b[1;33m]\u001b[0m \u001b[1;33m==\u001b[0m \u001b[0myear\u001b[0m\u001b[1;33m]\u001b[0m\u001b[1;33m\u001b[0m\u001b[1;33m\u001b[0m\u001b[0m\n\u001b[0m\u001b[0;32m      3\u001b[0m \u001b[0mpelicula\u001b[0m \u001b[1;33m=\u001b[0m \u001b[0mia\u001b[0m\u001b[1;33m.\u001b[0m\u001b[0mget_movie\u001b[0m\u001b[1;33m(\u001b[0m\u001b[0mlist_results_by_title_and_year\u001b[0m\u001b[1;33m[\u001b[0m\u001b[1;36m0\u001b[0m\u001b[1;33m]\u001b[0m\u001b[1;33m.\u001b[0m\u001b[0mmovieID\u001b[0m\u001b[1;33m)\u001b[0m\u001b[1;33m\u001b[0m\u001b[1;33m\u001b[0m\u001b[0m\n\u001b[0;32m      4\u001b[0m \u001b[0mprint\u001b[0m\u001b[1;33m(\u001b[0m\u001b[0mpelicula\u001b[0m\u001b[1;33m[\u001b[0m\u001b[1;34m'title'\u001b[0m\u001b[1;33m]\u001b[0m\u001b[1;33m)\u001b[0m\u001b[1;33m\u001b[0m\u001b[1;33m\u001b[0m\u001b[0m\n",
      "\u001b[1;31mNameError\u001b[0m: name 'year' is not defined"
     ]
    }
   ],
   "source": [
    "list_results_by_title = ia.search_movie(movies['title'][1])\n",
    "list_results_by_title_and_year = [m for m in list_results_by_title if movies['year'] == year]\n",
    "pelicula = ia.get_movie(list_results_by_title_and_year[0].movieID)\n",
    "print(pelicula['title'])"
   ]
  },
  {
   "cell_type": "code",
   "execution_count": null,
   "metadata": {},
   "outputs": [],
   "source": [
    "test = []\n",
    "\n",
    "Series."
   ]
  },
  {
   "cell_type": "code",
   "execution_count": 37,
   "metadata": {},
   "outputs": [
    {
     "name": "stdout",
     "output_type": "stream",
     "text": [
      "Dinosaur Planet\n",
      "2003.0\n",
      "Dinosaur Planet\n",
      "2003\n",
      "Star Fox Adventures\n",
      "2002\n",
      "Alpha's Egg\n",
      "2003\n",
      "Little Das' Hunt\n",
      "2003\n",
      "Pod's Travels\n",
      "2003\n",
      "White Tip's Journey\n",
      "2003\n",
      "Planet of Dinosaurs\n",
      "1977\n",
      "Planet Dinosaur\n",
      "2011\n",
      "Bikini Girls on Dinosaur Planet\n",
      "2005\n",
      "Escape to Dinosaur Planet\n",
      "2013\n",
      "Dinosaur Plague\n",
      "2009\n",
      "Planet of Dinosaurs\n",
      "2018\n",
      "Escape from Dinosaur Planet\n",
      "2014\n",
      "Planet der Dinosaurier\n",
      "2015\n",
      "Planet Dinosaur: Ultimate Killers\n",
      "2012\n",
      "Caminando entre dinosaurios: Planeta prehistórico 3D\n",
      "2014\n",
      "When Dinosaurs Ruled the Planet\n",
      "2013\n",
      "El planeta de los dinosaurios\n",
      "2017\n",
      "Planes, Trains and Dinosaurs\n"
     ]
    },
    {
     "ename": "KeyError",
     "evalue": "'year'",
     "output_type": "error",
     "traceback": [
      "\u001b[1;31m---------------------------------------------------------------------------\u001b[0m",
      "\u001b[1;31mKeyError\u001b[0m                                  Traceback (most recent call last)",
      "\u001b[1;32m<ipython-input-37-dbc99314c18c>\u001b[0m in \u001b[0;36m<module>\u001b[1;34m\u001b[0m\n\u001b[0;32m     11\u001b[0m     \u001b[1;32mfor\u001b[0m \u001b[0mm\u001b[0m \u001b[1;32min\u001b[0m \u001b[0mlist_results_by_title\u001b[0m\u001b[1;33m:\u001b[0m\u001b[1;33m\u001b[0m\u001b[1;33m\u001b[0m\u001b[0m\n\u001b[0;32m     12\u001b[0m         \u001b[0mprint\u001b[0m\u001b[1;33m(\u001b[0m\u001b[0mm\u001b[0m\u001b[1;33m[\u001b[0m\u001b[1;34m'title'\u001b[0m\u001b[1;33m]\u001b[0m\u001b[1;33m)\u001b[0m\u001b[1;33m\u001b[0m\u001b[1;33m\u001b[0m\u001b[0m\n\u001b[1;32m---> 13\u001b[1;33m         \u001b[0mprint\u001b[0m\u001b[1;33m(\u001b[0m\u001b[0mm\u001b[0m\u001b[1;33m[\u001b[0m\u001b[1;34m'year'\u001b[0m\u001b[1;33m]\u001b[0m\u001b[1;33m)\u001b[0m\u001b[1;33m\u001b[0m\u001b[1;33m\u001b[0m\u001b[0m\n\u001b[0m\u001b[0;32m     14\u001b[0m     \u001b[0mlist_results_by_title_and_year\u001b[0m \u001b[1;33m=\u001b[0m \u001b[1;33m[\u001b[0m\u001b[0mm\u001b[0m \u001b[1;32mfor\u001b[0m \u001b[0mm\u001b[0m \u001b[1;32min\u001b[0m \u001b[0mlist_results_by_title\u001b[0m \u001b[1;32mif\u001b[0m \u001b[0mm\u001b[0m\u001b[1;33m[\u001b[0m\u001b[1;34m'year'\u001b[0m\u001b[1;33m]\u001b[0m \u001b[1;33m==\u001b[0m \u001b[0mrow\u001b[0m\u001b[1;33m[\u001b[0m\u001b[1;34m'year'\u001b[0m\u001b[1;33m]\u001b[0m\u001b[1;33m]\u001b[0m\u001b[1;33m\u001b[0m\u001b[1;33m\u001b[0m\u001b[0m\n\u001b[0;32m     15\u001b[0m     \u001b[0mpelicula\u001b[0m \u001b[1;33m=\u001b[0m \u001b[0mia\u001b[0m\u001b[1;33m.\u001b[0m\u001b[0mget_movie\u001b[0m\u001b[1;33m(\u001b[0m\u001b[0mlist_results_by_title_and_year\u001b[0m\u001b[1;33m[\u001b[0m\u001b[1;36m0\u001b[0m\u001b[1;33m]\u001b[0m\u001b[1;33m.\u001b[0m\u001b[0mmovieID\u001b[0m\u001b[1;33m)\u001b[0m\u001b[1;33m\u001b[0m\u001b[1;33m\u001b[0m\u001b[0m\n",
      "\u001b[1;32m~\\Anaconda3\\lib\\site-packages\\imdb\\utils.py\u001b[0m in \u001b[0;36m__getitem__\u001b[1;34m(self, key)\u001b[0m\n\u001b[0;32m   1497\u001b[0m         \u001b[1;31m# Handle key aliases.\u001b[0m\u001b[1;33m\u001b[0m\u001b[1;33m\u001b[0m\u001b[1;33m\u001b[0m\u001b[0m\n\u001b[0;32m   1498\u001b[0m         \u001b[0mkey\u001b[0m \u001b[1;33m=\u001b[0m \u001b[0mself\u001b[0m\u001b[1;33m.\u001b[0m\u001b[0mkeys_alias\u001b[0m\u001b[1;33m.\u001b[0m\u001b[0mget\u001b[0m\u001b[1;33m(\u001b[0m\u001b[0mkey\u001b[0m\u001b[1;33m,\u001b[0m \u001b[0mkey\u001b[0m\u001b[1;33m)\u001b[0m\u001b[1;33m\u001b[0m\u001b[1;33m\u001b[0m\u001b[0m\n\u001b[1;32m-> 1499\u001b[1;33m         \u001b[0mrawData\u001b[0m \u001b[1;33m=\u001b[0m \u001b[0mself\u001b[0m\u001b[1;33m.\u001b[0m\u001b[0mdata\u001b[0m\u001b[1;33m[\u001b[0m\u001b[0mkey\u001b[0m\u001b[1;33m]\u001b[0m\u001b[1;33m\u001b[0m\u001b[1;33m\u001b[0m\u001b[0m\n\u001b[0m\u001b[0;32m   1500\u001b[0m         \u001b[1;32mif\u001b[0m \u001b[0mkey\u001b[0m \u001b[1;32min\u001b[0m \u001b[0mself\u001b[0m\u001b[1;33m.\u001b[0m\u001b[0mkeys_tomodify\u001b[0m \u001b[1;32mand\u001b[0m\u001b[0;31m \u001b[0m\u001b[0;31m\\\u001b[0m\u001b[1;33m\u001b[0m\u001b[1;33m\u001b[0m\u001b[0m\n\u001b[0;32m   1501\u001b[0m                 \u001b[0mself\u001b[0m\u001b[1;33m.\u001b[0m\u001b[0mmodFunct\u001b[0m \u001b[1;32mnot\u001b[0m \u001b[1;32min\u001b[0m \u001b[1;33m(\u001b[0m\u001b[1;32mNone\u001b[0m\u001b[1;33m,\u001b[0m \u001b[0mmodNull\u001b[0m\u001b[1;33m)\u001b[0m\u001b[1;33m:\u001b[0m\u001b[1;33m\u001b[0m\u001b[1;33m\u001b[0m\u001b[0m\n",
      "\u001b[1;31mKeyError\u001b[0m: 'year'"
     ]
    }
   ],
   "source": [
    "#for i, row in movies.iterrows():\n",
    "#    print(row['title'])\n",
    "#    print(row['year'])\n",
    "\n",
    "for i, row in movies.iterrows():\n",
    "    print(row['title'])\n",
    "    print(row['year'])\n",
    "    if i == 5:\n",
    "        break;\n",
    "    list_results_by_title = ia.search_movie(row['title'])\n",
    "    for m in list_results_by_title:\n",
    "        print(m['title'])\n",
    "        print(m['year'])\n",
    "    list_results_by_title_and_year = [m for m in list_results_by_title if m['year'] == row['year']]\n",
    "    pelicula = ia.get_movie(list_results_by_title_and_year[0].movieID)\n",
    "    print(pelicula['title'])"
   ]
  },
  {
   "cell_type": "code",
   "execution_count": 31,
   "metadata": {},
   "outputs": [
    {
     "name": "stdout",
     "output_type": "stream",
     "text": [
      "['title', 'kind', 'year', 'canonical title', 'long imdb title', 'long imdb canonical title', 'smart canonical title', 'smart long imdb canonical title']\n",
      "0094226\n",
      "['cast', 'genres', 'runtimes', 'countries', 'country codes', 'language codes', 'color info', 'aspect ratio', 'sound mix', 'certificates', 'original air date', 'rating', 'votes', 'cover url', 'plot outline', 'languages', 'title', 'year', 'kind', 'directors', 'writers', 'producers', 'composers', 'cinematographers', 'editors', 'editorial department', 'casting directors', 'art directors', 'set decorators', 'costume designers', 'make up department', 'production managers', 'assistant directors', 'art department', 'sound department', 'special effects', 'visual effects', 'stunts', 'camera department', 'casting department', 'costume departmen', 'location management', 'music department', 'transportation department', 'miscellaneous', 'akas', 'writer', 'director', 'production companies', 'distributors', 'special effects companies', 'other companies', 'plot', 'synopsis', 'canonical title', 'long imdb title', 'long imdb canonical title', 'smart canonical title', 'smart long imdb canonical title', 'full-size cover url']\n"
     ]
    }
   ],
   "source": [
    "the_untouchables = [m for m in s_result if m['year'] == 1987]\n",
    "print(the_untouchables[0].keys())\n",
    "print(the_untouchables[0].movieID)\n",
    "print(ia.get_movie('0094226').keys())"
   ]
  },
  {
   "cell_type": "code",
   "execution_count": 61,
   "metadata": {},
   "outputs": [],
   "source": [
    "pelicula = ia.get_movie('0389605')"
   ]
  },
  {
   "cell_type": "code",
   "execution_count": 65,
   "metadata": {},
   "outputs": [
    {
     "name": "stdout",
     "output_type": "stream",
     "text": [
      "50\n",
      "['50']\n",
      "7.7\n",
      "Pierre de Lespinois\n",
      "Mike Carrol\n"
     ]
    },
    {
     "ename": "KeyError",
     "evalue": "'production companies'",
     "output_type": "error",
     "traceback": [
      "\u001b[1;31m---------------------------------------------------------------------------\u001b[0m",
      "\u001b[1;31mKeyError\u001b[0m                                  Traceback (most recent call last)",
      "\u001b[1;32m<ipython-input-65-9615c69693ba>\u001b[0m in \u001b[0;36m<module>\u001b[1;34m\u001b[0m\n\u001b[0;32m      5\u001b[0m \u001b[0mprint\u001b[0m\u001b[1;33m(\u001b[0m\u001b[0mpelicula\u001b[0m\u001b[1;33m[\u001b[0m\u001b[1;34m'director'\u001b[0m\u001b[1;33m]\u001b[0m\u001b[1;33m[\u001b[0m\u001b[1;36m0\u001b[0m\u001b[1;33m]\u001b[0m\u001b[1;33m[\u001b[0m\u001b[1;34m'name'\u001b[0m\u001b[1;33m]\u001b[0m\u001b[1;33m)\u001b[0m\u001b[1;33m\u001b[0m\u001b[1;33m\u001b[0m\u001b[0m\n\u001b[0;32m      6\u001b[0m \u001b[0mprint\u001b[0m\u001b[1;33m(\u001b[0m\u001b[0mpelicula\u001b[0m\u001b[1;33m[\u001b[0m\u001b[1;34m'writer'\u001b[0m\u001b[1;33m]\u001b[0m\u001b[1;33m[\u001b[0m\u001b[1;36m0\u001b[0m\u001b[1;33m]\u001b[0m\u001b[1;33m[\u001b[0m\u001b[1;34m'name'\u001b[0m\u001b[1;33m]\u001b[0m\u001b[1;33m)\u001b[0m\u001b[1;33m\u001b[0m\u001b[1;33m\u001b[0m\u001b[0m\n\u001b[1;32m----> 7\u001b[1;33m \u001b[0mprint\u001b[0m\u001b[1;33m(\u001b[0m\u001b[0mpelicula\u001b[0m\u001b[1;33m[\u001b[0m\u001b[1;34m'production companies'\u001b[0m\u001b[1;33m]\u001b[0m\u001b[1;33m[\u001b[0m\u001b[1;36m0\u001b[0m\u001b[1;33m]\u001b[0m\u001b[1;33m[\u001b[0m\u001b[1;34m'name'\u001b[0m\u001b[1;33m]\u001b[0m\u001b[1;33m)\u001b[0m\u001b[1;33m\u001b[0m\u001b[1;33m\u001b[0m\u001b[0m\n\u001b[0m\u001b[0;32m      8\u001b[0m \u001b[0mprint\u001b[0m\u001b[1;33m(\u001b[0m\u001b[0mpelicula\u001b[0m\u001b[1;33m[\u001b[0m\u001b[1;34m'genres'\u001b[0m\u001b[1;33m]\u001b[0m\u001b[1;33m[\u001b[0m\u001b[1;36m0\u001b[0m\u001b[1;33m]\u001b[0m\u001b[1;33m)\u001b[0m\u001b[1;33m\u001b[0m\u001b[1;33m\u001b[0m\u001b[0m\n",
      "\u001b[1;32m~\\Anaconda3\\lib\\site-packages\\imdb\\utils.py\u001b[0m in \u001b[0;36m__getitem__\u001b[1;34m(self, key)\u001b[0m\n\u001b[0;32m   1497\u001b[0m         \u001b[1;31m# Handle key aliases.\u001b[0m\u001b[1;33m\u001b[0m\u001b[1;33m\u001b[0m\u001b[1;33m\u001b[0m\u001b[0m\n\u001b[0;32m   1498\u001b[0m         \u001b[0mkey\u001b[0m \u001b[1;33m=\u001b[0m \u001b[0mself\u001b[0m\u001b[1;33m.\u001b[0m\u001b[0mkeys_alias\u001b[0m\u001b[1;33m.\u001b[0m\u001b[0mget\u001b[0m\u001b[1;33m(\u001b[0m\u001b[0mkey\u001b[0m\u001b[1;33m,\u001b[0m \u001b[0mkey\u001b[0m\u001b[1;33m)\u001b[0m\u001b[1;33m\u001b[0m\u001b[1;33m\u001b[0m\u001b[0m\n\u001b[1;32m-> 1499\u001b[1;33m         \u001b[0mrawData\u001b[0m \u001b[1;33m=\u001b[0m \u001b[0mself\u001b[0m\u001b[1;33m.\u001b[0m\u001b[0mdata\u001b[0m\u001b[1;33m[\u001b[0m\u001b[0mkey\u001b[0m\u001b[1;33m]\u001b[0m\u001b[1;33m\u001b[0m\u001b[1;33m\u001b[0m\u001b[0m\n\u001b[0m\u001b[0;32m   1500\u001b[0m         \u001b[1;32mif\u001b[0m \u001b[0mkey\u001b[0m \u001b[1;32min\u001b[0m \u001b[0mself\u001b[0m\u001b[1;33m.\u001b[0m\u001b[0mkeys_tomodify\u001b[0m \u001b[1;32mand\u001b[0m\u001b[0;31m \u001b[0m\u001b[0;31m\\\u001b[0m\u001b[1;33m\u001b[0m\u001b[1;33m\u001b[0m\u001b[0m\n\u001b[0;32m   1501\u001b[0m                 \u001b[0mself\u001b[0m\u001b[1;33m.\u001b[0m\u001b[0mmodFunct\u001b[0m \u001b[1;32mnot\u001b[0m \u001b[1;32min\u001b[0m \u001b[1;33m(\u001b[0m\u001b[1;32mNone\u001b[0m\u001b[1;33m,\u001b[0m \u001b[0mmodNull\u001b[0m\u001b[1;33m)\u001b[0m\u001b[1;33m:\u001b[0m\u001b[1;33m\u001b[0m\u001b[1;33m\u001b[0m\u001b[0m\n",
      "\u001b[1;31mKeyError\u001b[0m: 'production companies'"
     ]
    }
   ],
   "source": [
    "if(pelicula['runtime'] and len(pelicula['runtime']) > 0):\n",
    "    print(pelicula['runtime'][0])\n",
    "print(pelicula['runtime'])\n",
    "print(pelicula['rating'])\n",
    "print(pelicula['director'][0]['name'])\n",
    "print(pelicula['writer'][0]['name'])\n",
    "print(pelicula['production companies'][0]['name'])\n",
    "print(pelicula['genres'][0])"
   ]
  },
  {
   "cell_type": "code",
   "execution_count": null,
   "metadata": {},
   "outputs": [],
   "source": []
  }
 ],
 "metadata": {
  "kernelspec": {
   "display_name": "Python 3",
   "language": "python",
   "name": "python3"
  },
  "language_info": {
   "codemirror_mode": {
    "name": "ipython",
    "version": 3
   },
   "file_extension": ".py",
   "mimetype": "text/x-python",
   "name": "python",
   "nbconvert_exporter": "python",
   "pygments_lexer": "ipython3",
   "version": "3.7.0"
  }
 },
 "nbformat": 4,
 "nbformat_minor": 2
}
