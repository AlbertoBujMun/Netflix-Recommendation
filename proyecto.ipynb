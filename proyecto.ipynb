{
 "cells": [
  {
   "cell_type": "code",
   "execution_count": 1,
   "metadata": {},
   "outputs": [
    {
     "name": "stderr",
     "output_type": "stream",
     "text": [
      "C:\\ProgramData\\Anaconda3\\lib\\site-packages\\sklearn\\ensemble\\weight_boosting.py:29: DeprecationWarning: numpy.core.umath_tests is an internal NumPy module and should not be imported. It will be removed in a future NumPy release.\n",
      "  from numpy.core.umath_tests import inner1d\n"
     ]
    }
   ],
   "source": [
    "import numpy as np\n",
    "import pandas as pd\n",
    "import matplotlib.pyplot as plt\n",
    "\n",
    "from sklearn.feature_selection import RFE\n",
    "from sklearn.feature_selection import f_classif, mutual_info_classif\n",
    "from sklearn.feature_selection import SelectPercentile, SelectKBest, SelectFromModel\n",
    "from sklearn.model_selection import train_test_split, cross_val_predict, cross_val_score\n",
    "\n",
    "from sklearn import metrics\n",
    "from sklearn.model_selection import cross_val_score, GridSearchCV\n",
    "from sklearn.decomposition import PCA\n",
    "from sklearn.pipeline import Pipeline\n",
    "from sklearn.linear_model import LogisticRegression, LinearRegression, Lasso, Ridge\n",
    "from sklearn.ensemble import RandomForestClassifier, RandomForestRegressor\n",
    "\n",
    "import seaborn as sns\n",
    "\n",
    "import scikitplot as skplt\n",
    "\n",
    "import matplotlib.pyplot as plt\n",
    "%matplotlib inline"
   ]
  },
  {
   "cell_type": "code",
   "execution_count": 2,
   "metadata": {},
   "outputs": [],
   "source": [
    "def distribucion(attr,datos):\n",
    "    plt.figure()\n",
    "    sns.distplot(datos[attr])\n",
    "    \n",
    "def relevancia(clase,attr,datos):\n",
    "    plt.figure()\n",
    "    gs = datos.groupby(clase)\n",
    "    for x in datos[clase].unique():\n",
    "        plt.legend()\n",
    "        sns.distplot(gs.get_group(x)[attr], label=x)\n",
    "        \n",
    "def cuenta(attr,datos):\n",
    "    plt.figure()\n",
    "    sns.countplot(y=attr,data=datos)\n",
    "    \n",
    "def muestra_relevancias(nombres, relevancias):\n",
    "    '''Función para mostrar una gráfica con el grado de relevancia de cada atributo\n",
    "    \n",
    "    Recibe:\n",
    "       - nombres: nombres de todos los atributos\n",
    "       - relevancias: de cada atributo, calculadas mediante alguna técnica\n",
    "    '''\n",
    "    plt.figure(figsize=(len(nombres)/4,5))\n",
    "    serie = pd.Series(relevancias, index=nombres)\n",
    "    serie.plot(kind='bar')\n",
    "    \n",
    "def muestra_seleccion(nombres, mascara):\n",
    "    '''Función para mostrar los nombres de los atributos seleccionados a partir de una máscara de booleanos\n",
    "    \n",
    "    Recibe:\n",
    "       - nombres: nombres de todos los atributos\n",
    "       - mascara: lista de booleanos que determina si un atributo se selecciona, o no\n",
    "    '''    \n",
    "    seleccionados = [n for n,m in zip(nombres, mascara) if m]\n",
    "    print(len(seleccionados), seleccionados)\n",
    "    \n",
    "\n",
    "def muestra_evolucion_un_parametro(grid, parametro):\n",
    "    ''' Muestra la evolución de los resultados de gridsearch en función de un parámetro \n",
    "    '''\n",
    "    # Volcamos los resultados en un dataframe y seleccionamos la columna del parámetro a visualizar\n",
    "    valores_params = pd.DataFrame(list(grid.cv_results_['params']))[parametro]\n",
    "    \n",
    "    # Creamos una serie con los resultados y usando como índice los valores del parámetro\n",
    "    resultados = pd.Series(grid.cv_results_['mean_test_score'], index=valores_params)\n",
    "    resultados.plot()\n",
    "    \n",
    "\n",
    "def muestra_evolucion_dos_parametros(grid, parametros):\n",
    "    ''' Muestra la evolución de los resultados de gridsearch en función de un parámetro \n",
    "    '''\n",
    "    # Volcamos los resultados en un dataframe y seleccionamos las columnas de los parámetros a visualizar\n",
    "    valores_params = pd.DataFrame(list(grid.cv_results_['params']))[parametros]\n",
    "    \n",
    "    # Creamos un DataFrame con tres columnas: los resultados y los valores de los dos paráemtros\n",
    "    resultados = pd.DataFrame(list(grid.cv_results_['mean_test_score']), columns=['resultados'])\n",
    "    resultados = pd.concat([resultados, valores_params], axis=1)\n",
    "    \n",
    "    # Creamos una tabla pivot a partir de losn resultados y la visualizamos\n",
    "    tabla = resultados.pivot_table(index=parametros[0], columns=parametros[1], values='resultados', fill_value=0)\n",
    "    sns.heatmap(tabla, annot=True, fmt='.4f', cmap='Greens')\n",
    "    plt.show()"
   ]
  },
  {
   "cell_type": "code",
   "execution_count": 6,
   "metadata": {},
   "outputs": [],
   "source": [
    "m_cols = ['id', 'year', 'title']\n",
    "movies = pd.read_csv(\"data/movie_titles.csv\",sep=',', names=m_cols, encoding='latin-1').set_index('id')"
   ]
  },
  {
   "cell_type": "code",
   "execution_count": 7,
   "metadata": {},
   "outputs": [
    {
     "data": {
      "text/html": [
       "<div>\n",
       "<style scoped>\n",
       "    .dataframe tbody tr th:only-of-type {\n",
       "        vertical-align: middle;\n",
       "    }\n",
       "\n",
       "    .dataframe tbody tr th {\n",
       "        vertical-align: top;\n",
       "    }\n",
       "\n",
       "    .dataframe thead th {\n",
       "        text-align: right;\n",
       "    }\n",
       "</style>\n",
       "<table border=\"1\" class=\"dataframe\">\n",
       "  <thead>\n",
       "    <tr style=\"text-align: right;\">\n",
       "      <th></th>\n",
       "      <th>year</th>\n",
       "      <th>title</th>\n",
       "    </tr>\n",
       "    <tr>\n",
       "      <th>id</th>\n",
       "      <th></th>\n",
       "      <th></th>\n",
       "    </tr>\n",
       "  </thead>\n",
       "  <tbody>\n",
       "    <tr>\n",
       "      <th>1</th>\n",
       "      <td>2003.0</td>\n",
       "      <td>Dinosaur Planet</td>\n",
       "    </tr>\n",
       "    <tr>\n",
       "      <th>2</th>\n",
       "      <td>2004.0</td>\n",
       "      <td>Isle of Man TT 2004 Review</td>\n",
       "    </tr>\n",
       "    <tr>\n",
       "      <th>3</th>\n",
       "      <td>1997.0</td>\n",
       "      <td>Character</td>\n",
       "    </tr>\n",
       "    <tr>\n",
       "      <th>4</th>\n",
       "      <td>1994.0</td>\n",
       "      <td>Paula Abdul's Get Up &amp; Dance</td>\n",
       "    </tr>\n",
       "    <tr>\n",
       "      <th>5</th>\n",
       "      <td>2004.0</td>\n",
       "      <td>The Rise and Fall of ECW</td>\n",
       "    </tr>\n",
       "  </tbody>\n",
       "</table>\n",
       "</div>"
      ],
      "text/plain": [
       "      year                         title\n",
       "id                                      \n",
       "1   2003.0               Dinosaur Planet\n",
       "2   2004.0    Isle of Man TT 2004 Review\n",
       "3   1997.0                     Character\n",
       "4   1994.0  Paula Abdul's Get Up & Dance\n",
       "5   2004.0      The Rise and Fall of ECW"
      ]
     },
     "execution_count": 7,
     "metadata": {},
     "output_type": "execute_result"
    }
   ],
   "source": [
    "movies.head()"
   ]
  },
  {
   "cell_type": "code",
   "execution_count": null,
   "metadata": {},
   "outputs": [],
   "source": []
  }
 ],
 "metadata": {
  "kernelspec": {
   "display_name": "Python 3",
   "language": "python",
   "name": "python3"
  },
  "language_info": {
   "codemirror_mode": {
    "name": "ipython",
    "version": 3
   },
   "file_extension": ".py",
   "mimetype": "text/x-python",
   "name": "python",
   "nbconvert_exporter": "python",
   "pygments_lexer": "ipython3",
   "version": "3.7.0"
  }
 },
 "nbformat": 4,
 "nbformat_minor": 2
}
