{
 "cells": [
  {
   "cell_type": "markdown",
   "metadata": {},
   "source": [
    "# Options:\n",
    "\n",
    "* generate a bag of words for each movie, possibly joining the director name words, and searching for the plot on imdb\n",
    "* With this, we would create a keyword based system, with word vectors.\n",
    "\n",
    "\n"
   ]
  },
  {
   "cell_type": "code",
   "execution_count": 43,
   "metadata": {},
   "outputs": [
    {
     "name": "stdout",
     "output_type": "stream",
     "text": [
      "[nltk_data] Downloading package stopwords to\n",
      "[nltk_data]     C:\\Users\\Alberto\\AppData\\Roaming\\nltk_data...\n",
      "[nltk_data]   Package stopwords is already up-to-date!\n"
     ]
    },
    {
     "data": {
      "text/plain": [
       "True"
      ]
     },
     "execution_count": 43,
     "metadata": {},
     "output_type": "execute_result"
    }
   ],
   "source": [
    "from collections import Counter, defaultdict\n",
    "import pandas as pd\n",
    "import os\n",
    "import numpy as np\n",
    "from sklearn.metrics.pairwise import cosine_similarity\n",
    "import math\n",
    "from sklearn.utils import shuffle\n",
    "from sklearn.model_selection import cross_val_score, cross_val_predict\n",
    "from sklearn.feature_extraction.text import CountVectorizer, TfidfTransformer\n",
    "from sklearn.svm import LinearSVC\n",
    "from sklearn.pipeline import Pipeline\n",
    "from sklearn.metrics import confusion_matrix\n",
    "from sklearn.decomposition import PCA\n",
    "from nltk.corpus import stopwords\n",
    "from sklearn.externals import joblib\n",
    "\n",
    "#Once\n",
    "import nltk\n",
    "nltk.download('stopwords')\n"
   ]
  },
  {
   "cell_type": "code",
   "execution_count": 52,
   "metadata": {},
   "outputs": [],
   "source": [
    "def process_user(filename):\n",
    "    df = pd.read_csv(directory+\"/\"+filename)\n",
    "    df = df.dropna(subset=['rated'])\n",
    "    texts = []\n",
    "    rates = []\n",
    "    df['words'] = np.NaN\n",
    "    df['recommend'] = np.NaN\n",
    "    stop_words = stopwords.words('english')\n",
    "    for index, row in df.iterrows():\n",
    "        text = \"\"\n",
    "        plot = row['Plot']\n",
    "        directors = row.Directors\n",
    "        writers = row.Writers\n",
    "        genres = row.Genres\n",
    "        rate = row.rated\n",
    "        if not pd.isnull(directors): \n",
    "            dir_temp = directors.replace(\" \",\"\").lower().split(\"-\")\n",
    "            for dir in dir_temp:\n",
    "                text = text + \" \" + dir\n",
    "        if not pd.isnull(writers): \n",
    "            wri_temp = writers.replace(\" \",\"\").lower().split(\"-\")\n",
    "            for wri in wri_temp:\n",
    "                text = text + \" \" + wri\n",
    "        if not pd.isnull(genres): \n",
    "            gen_temp = genres.replace(\" \",\"\").lower().split(\"-\")\n",
    "            for gen in gen_temp:\n",
    "                text = text + \" \" + gen\n",
    "\n",
    "        if not pd.isnull(rate): \n",
    "            if rate < 4:\n",
    "                rates.append(\"N\")\n",
    "                df.loc[index, 'recommend'] = \"N\"\n",
    "            else:\n",
    "                rates.append(\"Y\")\n",
    "                df.loc[index, 'recommend'] = \"Y\"\n",
    "        if not pd.isnull(plot): \n",
    "            for r in plot.lower().split(\" \"): \n",
    "                if not r in stop_words:\n",
    "                     text = text + \" \" + r\n",
    "        texts.append(text)\n",
    "        df.loc[index, 'words'] = text\n",
    "    X = df['words']\n",
    "    Y = df['recommend']\n",
    "    clasificador_tfidf = Pipeline([\n",
    "    ('vect', CountVectorizer()),\n",
    "    ('tfidf', TfidfTransformer()),\n",
    "    ('clf', LinearSVC()),\n",
    "    ])\n",
    "    if(len(Y.unique())>1):\n",
    "        clasificador_tfidf.fit(X,Y)\n",
    "        filename = \"user_model/\"+filename.replace(\".csv\",\"\")\n",
    "        joblib.dump(clasificador_tfidf,filename)\n",
    "        print(\"saved file \" + filename)"
   ]
  },
  {
   "cell_type": "code",
   "execution_count": 53,
   "metadata": {},
   "outputs": [
    {
     "name": "stdout",
     "output_type": "stream",
     "text": [
      "processing data for user 1050889...\n",
      "saved file user_model/1050889\n",
      "processing data for user 14756...\n",
      "saved file user_model/14756\n",
      "processing data for user 1989766...\n",
      "saved file user_model/1989766\n",
      "processing data for user 2113696...\n",
      "saved file user_model/2113696\n",
      "processing data for user 2161335...\n",
      "saved file user_model/2161335\n",
      "processing data for user 2380848...\n",
      "processing data for user 30878...\n",
      "saved file user_model/30878\n",
      "processing data for user 52736...\n",
      "saved file user_model/52736\n",
      "processing data for user 584301...\n",
      "saved file user_model/584301\n",
      "processing data for user 956464...\n",
      "saved file user_model/956464\n"
     ]
    }
   ],
   "source": [
    "#We iterate over all files (1 for testing) in the data directory\n",
    "directory = 'user_data'\n",
    "for filename in os.listdir(directory):\n",
    "    if filename.endswith(\".csv\"):\n",
    "        print(\"processing data for user \" + filename.replace(\".csv\",\"\") + \"...\")\n",
    "        process_user(filename)\n"
   ]
  },
  {
   "cell_type": "code",
   "execution_count": null,
   "metadata": {},
   "outputs": [],
   "source": []
  }
 ],
 "metadata": {
  "kernelspec": {
   "display_name": "Python 3",
   "language": "python",
   "name": "python3"
  },
  "language_info": {
   "codemirror_mode": {
    "name": "ipython",
    "version": 3
   },
   "file_extension": ".py",
   "mimetype": "text/x-python",
   "name": "python",
   "nbconvert_exporter": "python",
   "pygments_lexer": "ipython3",
   "version": "3.7.0"
  }
 },
 "nbformat": 4,
 "nbformat_minor": 2
}
