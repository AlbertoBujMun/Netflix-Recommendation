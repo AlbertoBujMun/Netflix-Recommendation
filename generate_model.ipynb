{
 "cells": [
  {
   "cell_type": "markdown",
   "metadata": {},
   "source": [
    "# Options:\n",
    "\n",
    "* generate a bag of words for each movie, possibly joining the director name words, and searching for the plot on imdb\n",
    "* With this, we would create a keyword based system, with word vectors.\n",
    "\n",
    "\n"
   ]
  },
  {
   "cell_type": "code",
   "execution_count": 6,
   "metadata": {},
   "outputs": [],
   "source": [
    "import pandas as pd\n",
    "import os\n"
   ]
  },
  {
   "cell_type": "code",
   "execution_count": 7,
   "metadata": {},
   "outputs": [],
   "source": [
    "def process_user(filename):\n",
    "    df = pd.read_csv(directory+\"/\"+filename)\n",
    "    df.head"
   ]
  },
  {
   "cell_type": "code",
   "execution_count": 8,
   "metadata": {},
   "outputs": [
    {
     "name": "stdout",
     "output_type": "stream",
     "text": [
      "processing data for user 1050889...\n"
     ]
    }
   ],
   "source": [
    "#We iterate over all files (1 for testing) in the data directory\n",
    "directory = 'user_data'\n",
    "for filename in os.listdir(directory):\n",
    "    if filename.endswith(\".csv\"):\n",
    "        print(\"processing data for user \" + filename.replace(\".csv\",\"\") + \"...\")\n",
    "        #process_user(filename)\n",
    "        break\n",
    "        #continue;\n",
    "    else:\n",
    "        break\n",
    "        #continue\n"
   ]
  },
  {
   "cell_type": "code",
   "execution_count": 9,
   "metadata": {},
   "outputs": [
    {
     "data": {
      "text/html": [
       "<div>\n",
       "<style scoped>\n",
       "    .dataframe tbody tr th:only-of-type {\n",
       "        vertical-align: middle;\n",
       "    }\n",
       "\n",
       "    .dataframe tbody tr th {\n",
       "        vertical-align: top;\n",
       "    }\n",
       "\n",
       "    .dataframe thead th {\n",
       "        text-align: right;\n",
       "    }\n",
       "</style>\n",
       "<table border=\"1\" class=\"dataframe\">\n",
       "  <thead>\n",
       "    <tr style=\"text-align: right;\">\n",
       "      <th></th>\n",
       "      <th>id</th>\n",
       "      <th>year</th>\n",
       "      <th>title</th>\n",
       "      <th>Runtime</th>\n",
       "      <th>Rating</th>\n",
       "      <th>Directors</th>\n",
       "      <th>Writers</th>\n",
       "      <th>Production companies</th>\n",
       "      <th>Genres</th>\n",
       "      <th>Plot</th>\n",
       "      <th>rated</th>\n",
       "    </tr>\n",
       "  </thead>\n",
       "  <tbody>\n",
       "    <tr>\n",
       "      <th>0</th>\n",
       "      <td>1</td>\n",
       "      <td>2003.0</td>\n",
       "      <td>Dinosaur Planet</td>\n",
       "      <td>50.0</td>\n",
       "      <td>7.7</td>\n",
       "      <td>Pierre de Lespinois</td>\n",
       "      <td>Mike Carrol-Mike Carroll-Georgann Kane</td>\n",
       "      <td>NaN</td>\n",
       "      <td>Documentary-Animation-Family</td>\n",
       "      <td>A four-episode animated series charting the ad...</td>\n",
       "      <td>NaN</td>\n",
       "    </tr>\n",
       "    <tr>\n",
       "      <th>1</th>\n",
       "      <td>2</td>\n",
       "      <td>2004.0</td>\n",
       "      <td>Isle of Man TT 2004 Review</td>\n",
       "      <td>NaN</td>\n",
       "      <td>NaN</td>\n",
       "      <td>NaN</td>\n",
       "      <td>NaN</td>\n",
       "      <td>NaN</td>\n",
       "      <td>NaN</td>\n",
       "      <td>NaN</td>\n",
       "      <td>NaN</td>\n",
       "    </tr>\n",
       "    <tr>\n",
       "      <th>2</th>\n",
       "      <td>3</td>\n",
       "      <td>1997.0</td>\n",
       "      <td>Character</td>\n",
       "      <td>122.0</td>\n",
       "      <td>7.8</td>\n",
       "      <td>Mike van Diem</td>\n",
       "      <td>Ferdinand Bordewijk-Laurens Geels-Mike van Diem</td>\n",
       "      <td>First Floor Features-Almerica Film</td>\n",
       "      <td>Crime-Drama-Mystery</td>\n",
       "      <td>In the 20's, in Netherlands, Jacob Willem Kata...</td>\n",
       "      <td>NaN</td>\n",
       "    </tr>\n",
       "    <tr>\n",
       "      <th>3</th>\n",
       "      <td>4</td>\n",
       "      <td>1994.0</td>\n",
       "      <td>Paula Abdul's Get Up &amp; Dance</td>\n",
       "      <td>54.0</td>\n",
       "      <td>8.8</td>\n",
       "      <td>Steve Purcell</td>\n",
       "      <td>NaN</td>\n",
       "      <td>NaN</td>\n",
       "      <td>Family</td>\n",
       "      <td>Join Paula Abdul for the ultimate workout - an...</td>\n",
       "      <td>NaN</td>\n",
       "    </tr>\n",
       "    <tr>\n",
       "      <th>4</th>\n",
       "      <td>5</td>\n",
       "      <td>2004.0</td>\n",
       "      <td>The Rise and Fall of ECW</td>\n",
       "      <td>360.0</td>\n",
       "      <td>8.6</td>\n",
       "      <td>Kevin Dunn</td>\n",
       "      <td>Paul Heyman</td>\n",
       "      <td>WWE Home Video</td>\n",
       "      <td>Documentary-Sport</td>\n",
       "      <td>NaN</td>\n",
       "      <td>NaN</td>\n",
       "    </tr>\n",
       "  </tbody>\n",
       "</table>\n",
       "</div>"
      ],
      "text/plain": [
       "   id    year                         title  Runtime  Rating  \\\n",
       "0   1  2003.0               Dinosaur Planet     50.0     7.7   \n",
       "1   2  2004.0    Isle of Man TT 2004 Review      NaN     NaN   \n",
       "2   3  1997.0                     Character    122.0     7.8   \n",
       "3   4  1994.0  Paula Abdul's Get Up & Dance     54.0     8.8   \n",
       "4   5  2004.0      The Rise and Fall of ECW    360.0     8.6   \n",
       "\n",
       "             Directors                                          Writers  \\\n",
       "0  Pierre de Lespinois           Mike Carrol-Mike Carroll-Georgann Kane   \n",
       "1                  NaN                                              NaN   \n",
       "2        Mike van Diem  Ferdinand Bordewijk-Laurens Geels-Mike van Diem   \n",
       "3        Steve Purcell                                              NaN   \n",
       "4           Kevin Dunn                                      Paul Heyman   \n",
       "\n",
       "                 Production companies                        Genres  \\\n",
       "0                                 NaN  Documentary-Animation-Family   \n",
       "1                                 NaN                           NaN   \n",
       "2  First Floor Features-Almerica Film           Crime-Drama-Mystery   \n",
       "3                                 NaN                        Family   \n",
       "4                      WWE Home Video             Documentary-Sport   \n",
       "\n",
       "                                                Plot  rated  \n",
       "0  A four-episode animated series charting the ad...    NaN  \n",
       "1                                                NaN    NaN  \n",
       "2  In the 20's, in Netherlands, Jacob Willem Kata...    NaN  \n",
       "3  Join Paula Abdul for the ultimate workout - an...    NaN  \n",
       "4                                                NaN    NaN  "
      ]
     },
     "execution_count": 9,
     "metadata": {},
     "output_type": "execute_result"
    }
   ],
   "source": [
    "directory = \"user_data\"\n",
    "filename = \"1050889.csv\"\n",
    "df = pd.read_csv(directory+\"/\"+filename)\n",
    "df.head()\n",
    "    \n",
    "    "
   ]
  },
  {
   "cell_type": "code",
   "execution_count": null,
   "metadata": {},
   "outputs": [],
   "source": []
  }
 ],
 "metadata": {
  "kernelspec": {
   "display_name": "Python 3",
   "language": "python",
   "name": "python3"
  },
  "language_info": {
   "codemirror_mode": {
    "name": "ipython",
    "version": 3
   },
   "file_extension": ".py",
   "mimetype": "text/x-python",
   "name": "python",
   "nbconvert_exporter": "python",
   "pygments_lexer": "ipython3",
   "version": "3.7.1"
  }
 },
 "nbformat": 4,
 "nbformat_minor": 2
}
